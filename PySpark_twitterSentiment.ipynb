{
 "cells": [
  {
   "cell_type": "markdown",
   "metadata": {},
   "source": [
    "# Check Spark configuration"
   ]
  },
  {
   "cell_type": "code",
   "execution_count": 1,
   "metadata": {},
   "outputs": [
    {
     "data": {
      "text/plain": [
       "[('spark.driver.memory', '20g'),\n",
       " ('spark.executor.memory', '10g'),\n",
       " ('spark.submit.deployMode', 'client'),\n",
       " ('spark.executor.memoryOverhead', '10g'),\n",
       " ('spark.app.name', 'PySparkShell'),\n",
       " ('spark.ui.showConsoleProgress', 'true'),\n",
       " ('spark.master', 'local[2]'),\n",
       " ('spark.driver.maxResultSize', '5g')]"
      ]
     },
     "execution_count": 1,
     "metadata": {},
     "output_type": "execute_result"
    }
   ],
   "source": [
    "from pyspark import SparkConf\n",
    "SparkConf().getAll()"
   ]
  },
  {
   "cell_type": "markdown",
   "metadata": {},
   "source": [
    "# Data Engineering"
   ]
  },
  {
   "cell_type": "markdown",
   "metadata": {},
   "source": [
    "## Read Data\n",
    "\n",
    "Twitter data source is available from http://help.sentiment140.com/for-students"
   ]
  },
  {
   "cell_type": "code",
   "execution_count": 2,
   "metadata": {},
   "outputs": [],
   "source": [
    "from pyspark.sql.functions import col\n",
    "df = spark.read.csv('trainingandtestdata/training.1600000.processed.noemoticon.csv')\n",
    "df = df.select(col('_c5').alias('text'), col('_c0').alias('target'))"
   ]
  },
  {
   "cell_type": "code",
   "execution_count": 3,
   "metadata": {},
   "outputs": [
    {
     "name": "stdout",
     "output_type": "stream",
     "text": [
      "+--------------------+------+\n",
      "|                text|target|\n",
      "+--------------------+------+\n",
      "|@switchfoot http:...|     0|\n",
      "|is upset that he ...|     0|\n",
      "|@Kenichan I dived...|     0|\n",
      "|my whole body fee...|     0|\n",
      "|@nationwideclass ...|     0|\n",
      "|@Kwesidei not the...|     0|\n",
      "|         Need a hug |     0|\n",
      "|@LOLTrish hey  lo...|     0|\n",
      "|@Tatiana_K nope t...|     0|\n",
      "|@twittera que me ...|     0|\n",
      "|spring break in p...|     0|\n",
      "|I just re-pierced...|     0|\n",
      "|@caregiving I cou...|     0|\n",
      "|@octolinz16 It it...|     0|\n",
      "|@smarrison i woul...|     0|\n",
      "|@iamjazzyfizzle I...|     0|\n",
      "|Hollis' death sce...|     0|\n",
      "|about to file taxes |     0|\n",
      "|@LettyA ahh ive a...|     0|\n",
      "|@FakerPattyPattz ...|     0|\n",
      "+--------------------+------+\n",
      "only showing top 20 rows\n",
      "\n"
     ]
    }
   ],
   "source": [
    "df.show()"
   ]
  },
  {
   "cell_type": "markdown",
   "metadata": {},
   "source": [
    "## Clean data\n",
    "* remove url link\n",
    "* remove @mention, \\#hashTag, <word\\>\n",
    "* remove [\\*] with one word included, such as [-o], [twitter], [*.com]\n",
    "* remove \\$ + number, such as $12,000\n",
    "* remove words having special unicode character, such as U+FFFD\n",
    "* string lower case, strip spaces\n",
    "* html unquote, such as transforming &amp\\; to &;\n",
    "* replace sad face: replace \"=\\[\", \"=\\(\", \":(\", \":-\\[\", \":\\[\" by \"sad\"\n",
    "* replace happy face: replace \":)\", \": )\", \":\\]\" by \"happy\"\n",
    "* replace \"'s \" by \" is \"\n",
    "* replace *'t into two words, such as don't -> do not\n",
    "* keep only letters [a-zA-Z]\n",
    "* drop Null data"
   ]
  },
  {
   "cell_type": "code",
   "execution_count": 4,
   "metadata": {},
   "outputs": [],
   "source": [
    "from pyspark.sql.functions import regexp_replace, udf\n",
    "from pyspark.sql.types import StringType\n",
    "import html\n",
    "import re\n",
    "df = df.withColumn('text', regexp_replace('text', 'https?://[\\w\\d./_?=]+', ''))\n",
    "df = df.withColumn('text', regexp_replace('text', 'www.[\\w\\d./_?=]+', ''))\n",
    "df = df.withColumn('text', regexp_replace('text', \"\\@[\\w\\d.'_]+\", ''))\n",
    "df = df.withColumn('text', regexp_replace('text', \"\\#[\\w\\d.'_]+\", ''))\n",
    "df = df.withColumn('text', regexp_replace('text', \"\\<[\\w]+\\>+\", ''))\n",
    "df = df.withColumn('text', regexp_replace('text', \"\\[[\\S\\w\\d:.-]+\\]\", ''))\n",
    "df = df.withColumn('text', regexp_replace('text', \"\\$\\d+,? ?\\d*\", ''))\n",
    "df = df.withColumn('text', regexp_replace('text', \"(=\\[|=\\(|:\\-\\[|:\\[)\", 'sad'))\n",
    "df = df.withColumn('text', regexp_replace('text', \"(: ?\\)|: ?\\])\", 'happy'))\n",
    "df = df.withColumn('text', regexp_replace('text', \"'s \", ' is '))\n",
    "\n",
    "dataClean = udf(lambda x: html.unescape(x).lower().strip(), StringType())\n",
    "#removeUnicode = udf(lambda x: re.sub(\"[\\w]*\"+u\"\\uFFFD ?\"+ \"([\\w]+|$)\", \"\", x), StringType())\n",
    "removeUnicode = udf(lambda x: \"\".join(i for i in x if ord(i)<128))\n",
    "negations_dic = {\"isn't\":\"is not\", \"aren't\":\"are not\", \"wasn't\":\"was not\", \"weren't\":\"were not\",   \n",
    "                \"haven't\":\"have not\",\"hasn't\":\"has not\",\"hadn't\":\"had not\",\"won't\":\"will not\",\n",
    "                \"wouldn't\":\"would not\", \"don't\":\"do not\", \"doesn't\":\"does not\",\"didn't\":\"did not\",\n",
    "                \"can't\":\"can not\",\"couldn't\":\"could not\",\"shouldn't\":\"should not\",\"mightn't\":\"might not\",\n",
    "                \"mustn't\":\"must not\"}\n",
    "@udf(StringType())\n",
    "def negations(s):\n",
    "    for key in negations_dic:\n",
    "        s = re.sub(key, negations_dic[key], s) \n",
    "    return s\n",
    "stripWord = udf(lambda x: x.strip(), StringType())\n",
    "\n",
    "df = df.withColumn('text', dataClean(col('text')) )\n",
    "df = df.withColumn('text', removeUnicode(col('text')) )\n",
    "df = df.withColumn('text', negations(col('text')) )\n",
    "df = df.withColumn('text', regexp_replace('text', \"[^a-zA-Z]\", ' '))\n",
    "df = df.withColumn('text', stripWord(col('text')))\n",
    "df = df.dropna('any')"
   ]
  },
  {
   "cell_type": "code",
   "execution_count": 5,
   "metadata": {},
   "outputs": [
    {
     "name": "stdout",
     "output_type": "stream",
     "text": [
      "+--------------------+------+\n",
      "|                text|target|\n",
      "+--------------------+------+\n",
      "|awww  that is a b...|     0|\n",
      "|is upset that he ...|     0|\n",
      "|i dived many time...|     0|\n",
      "|my whole body fee...|     0|\n",
      "|no  it is not beh...|     0|\n",
      "|  not the whole crew|     0|\n",
      "|          need a hug|     0|\n",
      "|hey  long time no...|     0|\n",
      "|nope they did not...|     0|\n",
      "|        que me muera|     0|\n",
      "|spring break in p...|     0|\n",
      "|i just re pierced...|     0|\n",
      "|i could not bear ...|     0|\n",
      "|it it counts  idk...|     0|\n",
      "|i would ve been t...|     0|\n",
      "|i wish i got to w...|     0|\n",
      "|hollis  death sce...|     0|\n",
      "| about to file taxes|     0|\n",
      "|ahh ive always wa...|     0|\n",
      "|oh dear  were you...|     0|\n",
      "+--------------------+------+\n",
      "only showing top 20 rows\n",
      "\n"
     ]
    }
   ],
   "source": [
    "df.show()"
   ]
  },
  {
   "cell_type": "markdown",
   "metadata": {},
   "source": [
    "## Split train / test / validation data\n",
    "* train:        90%\n",
    "* validation:   5%\n",
    "* test:         5%"
   ]
  },
  {
   "cell_type": "code",
   "execution_count": 6,
   "metadata": {},
   "outputs": [],
   "source": [
    "from pyspark.ml.feature import HashingTF, IDF, Tokenizer, NGram\n",
    "from pyspark.ml.feature import StringIndexer\n",
    "from pyspark.ml.feature import StopWordsRemover\n",
    "from pyspark.ml import Pipeline\n",
    "from pyspark.ml.classification import LogisticRegression\n",
    "from pyspark.ml.evaluation import MulticlassClassificationEvaluator\n",
    "\n",
    "(train_set, val_set, test_set) = df.randomSplit([0.90, 0.05, 0.05])"
   ]
  },
  {
   "cell_type": "markdown",
   "metadata": {},
   "source": [
    "## Feature extraction\n",
    "### Pipeline\n",
    "* Stop Word Remover\n",
    "* N Gram model\n",
    "* TF-IDF\n",
    "\n",
    "After some hands-on tests, stopWordRemover looks not be a good choice, remove it"
   ]
  },
  {
   "cell_type": "code",
   "execution_count": 10,
   "metadata": {},
   "outputs": [],
   "source": [
    "tokenizer = Tokenizer(inputCol=\"text\", outputCol=\"word\")\n",
    "remover = StopWordsRemover(inputCol=\"word\", outputCol=\"filteredWord\")\n",
    "ngram = NGram(n=2, inputCol=\"word\", outputCol=\"words\")\n",
    "hashtf = HashingTF(numFeatures = 2**18, inputCol=\"words\", outputCol=\"tf\")\n",
    "idf = IDF(inputCol='tf', outputCol=\"features\", minDocFreq=2)\n",
    "label_stringIdx = StringIndexer(inputCol=\"target\", outputCol=\"label\")\n",
    "pipeline = Pipeline(stages=[tokenizer, remover, ngram, hashtf, idf, label_stringIdx])\n",
    "\n",
    "pipelineFit = pipeline.fit(train_set)\n",
    "train_df = pipelineFit.transform(train_set)\n",
    "val_df = pipelineFit.transform(val_set)"
   ]
  },
  {
   "cell_type": "markdown",
   "metadata": {},
   "source": [
    "## Logistic Regression"
   ]
  },
  {
   "cell_type": "code",
   "execution_count": 11,
   "metadata": {},
   "outputs": [],
   "source": [
    "lr = LogisticRegression(maxIter=100, threshold=0.5)\n",
    "lrModel = lr.fit(train_df)\n",
    "predictions = lrModel.transform(val_df)"
   ]
  },
  {
   "cell_type": "markdown",
   "metadata": {},
   "source": [
    "## Validate result\n",
    "* PySpark use F1-Score by default to validate result. \n",
    "* The validation result is about 74%. \n",
    "\n",
    "In the next step we use train and validation data to tune hyper parameters"
   ]
  },
  {
   "cell_type": "code",
   "execution_count": 12,
   "metadata": {
    "scrolled": true
   },
   "outputs": [
    {
     "name": "stdout",
     "output_type": "stream",
     "text": [
      "Evaluator Metrics is f1\n",
      "Prediction is 0.7417493071940593\n"
     ]
    }
   ],
   "source": [
    "evaluator = MulticlassClassificationEvaluator(predictionCol=\"prediction\", labelCol='label')\n",
    "print(\"Evaluator Metrics is %s\" %evaluator.getMetricName())\n",
    "\n",
    "pred = evaluator.evaluate(predictions) \n",
    "print(\"Prediction is {}\".format(pred))"
   ]
  },
  {
   "cell_type": "markdown",
   "metadata": {},
   "source": [
    "## Optimize hyper parameters\n",
    "* Use Gaussian Process to tune hyper parameters\n",
    "* Hyper parameter list\n",
    "    * No. of gram = $[2, 3]$\n",
    "    * No. of TF-IDF features = $[2^{18}, 2^{19}, 2^{20}, 2^{21}, 2^{22}, 2^{23}, 2^{24}]$\n",
    "    * Minimum doc frequency = $[2, 3, 4, 5]$\n",
    "    * Logistic regression model threshold = $[0.3, 0.4, 0.5, 0.6, 0.7]$"
   ]
  },
  {
   "cell_type": "code",
   "execution_count": 8,
   "metadata": {},
   "outputs": [],
   "source": [
    "import skopt\n",
    "from skopt import gp_minimize\n",
    "from skopt.space import Integer, Real\n",
    "from skopt.utils import use_named_args\n",
    "\n",
    "dim_n1 = Integer(low=2, high=3, name='n1')\n",
    "dim_n2 = Integer(low=18, high=22, name='n2')\n",
    "dim_n3 = Integer(low=2, high=6, name='n3')\n",
    "dim_n4 = Integer(low=3, high=7, name='n4')\n",
    "dimensions = [dim_n1, dim_n2, dim_n3, dim_n4]\n",
    "default_params = [2, 18, 2, 3]\n",
    "\n",
    "@use_named_args(dimensions=dimensions)\n",
    "def sentiment_model(n1, n2, n3, n4):\n",
    "    tokenizer = Tokenizer(inputCol=\"text\", outputCol=\"word\")\n",
    "    #remover = StopWordsRemover(inputCol=\"word\", outputCol=\"filteredWord\")\n",
    "    ngram = NGram(n=int(n1), inputCol=\"word\", outputCol=\"words\")\n",
    "    hashtf = HashingTF(numFeatures = 2**int(n2), inputCol=\"words\", outputCol=\"tf\")\n",
    "    idf = IDF(inputCol='tf', outputCol=\"features\", minDocFreq=int(n3))\n",
    "    label_stringIdx = StringIndexer(inputCol=\"target\", outputCol=\"label\")\n",
    "    pipeline = Pipeline(stages=[tokenizer, ngram, hashtf, idf, label_stringIdx])\n",
    "\n",
    "    pipelineFit = pipeline.fit(train_set)\n",
    "    train_df = pipelineFit.transform(train_set)\n",
    "    val_df = pipelineFit.transform(val_set)\n",
    "    \n",
    "    lr = LogisticRegression(maxIter=100, threshold=n4*0.1)\n",
    "    lrModel = lr.fit(train_df)\n",
    "    predictions = lrModel.transform(val_df)\n",
    "    \n",
    "    evaluator = MulticlassClassificationEvaluator(predictionCol=\"prediction\", labelCol='label')\n",
    "    res = -evaluator.evaluate(predictions) \n",
    "    print(\"n-gram=%s,   TF-features=2**%s,   minimum-doc-freq=%s,   threshold=%.2f,   prediction=%.4f\" %(n1,n2,n3,n4*0.1,-res))\n",
    "    \n",
    "    return res"
   ]
  },
  {
   "cell_type": "code",
   "execution_count": 9,
   "metadata": {
    "scrolled": true
   },
   "outputs": [
    {
     "name": "stdout",
     "output_type": "stream",
     "text": [
      "n-gram=2,   TF-features=2**18,   minimum-doc-freq=2,   threshold=0.30,   prediction=0.7274\n",
      "n-gram=2,   TF-features=2**21,   minimum-doc-freq=5,   threshold=0.60,   prediction=0.7460\n",
      "n-gram=3,   TF-features=2**21,   minimum-doc-freq=3,   threshold=0.40,   prediction=0.6778\n",
      "n-gram=3,   TF-features=2**20,   minimum-doc-freq=3,   threshold=0.60,   prediction=0.6615\n",
      "n-gram=3,   TF-features=2**21,   minimum-doc-freq=3,   threshold=0.40,   prediction=0.6778\n",
      "n-gram=3,   TF-features=2**18,   minimum-doc-freq=5,   threshold=0.60,   prediction=0.6874\n",
      "n-gram=3,   TF-features=2**19,   minimum-doc-freq=4,   threshold=0.50,   prediction=0.6487\n",
      "n-gram=2,   TF-features=2**19,   minimum-doc-freq=4,   threshold=0.30,   prediction=0.7011\n",
      "n-gram=2,   TF-features=2**20,   minimum-doc-freq=6,   threshold=0.70,   prediction=0.7401\n",
      "n-gram=2,   TF-features=2**20,   minimum-doc-freq=2,   threshold=0.50,   prediction=0.6777\n",
      "n-gram=2,   TF-features=2**18,   minimum-doc-freq=3,   threshold=0.40,   prediction=0.7410\n",
      "n-gram=2,   TF-features=2**22,   minimum-doc-freq=6,   threshold=0.70,   prediction=0.7542\n",
      "n-gram=2,   TF-features=2**18,   minimum-doc-freq=6,   threshold=0.70,   prediction=0.7340\n",
      "n-gram=2,   TF-features=2**21,   minimum-doc-freq=6,   threshold=0.30,   prediction=0.7449\n",
      "n-gram=3,   TF-features=2**22,   minimum-doc-freq=6,   threshold=0.70,   prediction=0.6777\n",
      "n-gram=2,   TF-features=2**22,   minimum-doc-freq=2,   threshold=0.70,   prediction=0.7012\n",
      "n-gram=2,   TF-features=2**21,   minimum-doc-freq=6,   threshold=0.70,   prediction=0.7495\n",
      "n-gram=2,   TF-features=2**22,   minimum-doc-freq=5,   threshold=0.70,   prediction=0.7472\n",
      "n-gram=2,   TF-features=2**18,   minimum-doc-freq=6,   threshold=0.30,   prediction=0.7302\n",
      "n-gram=3,   TF-features=2**18,   minimum-doc-freq=2,   threshold=0.70,   prediction=0.6759\n",
      "n-gram=2,   TF-features=2**22,   minimum-doc-freq=6,   threshold=0.30,   prediction=0.7491\n",
      "n-gram=2,   TF-features=2**18,   minimum-doc-freq=4,   threshold=0.70,   prediction=0.7323\n"
     ]
    },
    {
     "name": "stderr",
     "output_type": "stream",
     "text": [
      "C:\\Users\\linzh\\AppData\\Local\\Continuum\\anaconda3\\envs\\spark\\lib\\site-packages\\skopt\\optimizer\\optimizer.py:399: UserWarning: The objective has been evaluated at this point before.\n",
      "  warnings.warn(\"The objective has been evaluated \"\n"
     ]
    },
    {
     "name": "stdout",
     "output_type": "stream",
     "text": [
      "n-gram=2,   TF-features=2**22,   minimum-doc-freq=6,   threshold=0.70,   prediction=0.7542\n",
      "n-gram=3,   TF-features=2**22,   minimum-doc-freq=2,   threshold=0.70,   prediction=0.6878\n",
      "n-gram=2,   TF-features=2**22,   minimum-doc-freq=4,   threshold=0.30,   prediction=0.7274\n",
      "n-gram=3,   TF-features=2**20,   minimum-doc-freq=6,   threshold=0.70,   prediction=0.6650\n"
     ]
    },
    {
     "name": "stderr",
     "output_type": "stream",
     "text": [
      "C:\\Users\\linzh\\AppData\\Local\\Continuum\\anaconda3\\envs\\spark\\lib\\site-packages\\skopt\\optimizer\\optimizer.py:399: UserWarning: The objective has been evaluated at this point before.\n",
      "  warnings.warn(\"The objective has been evaluated \"\n"
     ]
    },
    {
     "name": "stdout",
     "output_type": "stream",
     "text": [
      "n-gram=2,   TF-features=2**22,   minimum-doc-freq=6,   threshold=0.70,   prediction=0.7542\n"
     ]
    },
    {
     "name": "stderr",
     "output_type": "stream",
     "text": [
      "C:\\Users\\linzh\\AppData\\Local\\Continuum\\anaconda3\\envs\\spark\\lib\\site-packages\\skopt\\optimizer\\optimizer.py:399: UserWarning: The objective has been evaluated at this point before.\n",
      "  warnings.warn(\"The objective has been evaluated \"\n"
     ]
    },
    {
     "name": "stdout",
     "output_type": "stream",
     "text": [
      "n-gram=2,   TF-features=2**21,   minimum-doc-freq=6,   threshold=0.70,   prediction=0.7495\n",
      "n-gram=2,   TF-features=2**19,   minimum-doc-freq=6,   threshold=0.70,   prediction=0.7272\n",
      "n-gram=2,   TF-features=2**21,   minimum-doc-freq=4,   threshold=0.70,   prediction=0.7203\n"
     ]
    }
   ],
   "source": [
    "search_result = gp_minimize(func=sentiment_model, \n",
    "                            dimensions=dimensions, \n",
    "                            acq_func='EI',         # Expected Improvement\n",
    "                            n_calls = 30,\n",
    "                            x0=default_params) "
   ]
  },
  {
   "cell_type": "code",
   "execution_count": 15,
   "metadata": {},
   "outputs": [
    {
     "data": {
      "image/png": "[encoded data removed]",
      "text/plain": [
       "<Figure size 432x288 with 1 Axes>"
      ]
     },
     "metadata": {},
     "output_type": "display_data"
    }
   ],
   "source": [
    "import matplotlib.pyplot as plt\n",
    "from skopt.plots import plot_convergence\n",
    "plot_convergence(search_result)\n",
    "plt.show()"
   ]
  },
  {
   "cell_type": "code",
   "execution_count": 16,
   "metadata": {},
   "outputs": [
    {
     "data": {
      "text/plain": [
       "[2, 22, 6, 7]"
      ]
     },
     "execution_count": 16,
     "metadata": {},
     "output_type": "execute_result"
    }
   ],
   "source": [
    "search_result.x"
   ]
  },
  {
   "cell_type": "code",
   "execution_count": null,
   "metadata": {},
   "outputs": [],
   "source": []
  }
 ],
 "metadata": {
  "kernelspec": {
   "display_name": "Python 3",
   "language": "python",
   "name": "python3"
  },
  "language_info": {
   "codemirror_mode": {
    "name": "ipython",
    "version": 3
   },
   "file_extension": ".py",
   "mimetype": "text/x-python",
   "name": "python",
   "nbconvert_exporter": "python",
   "pygments_lexer": "ipython3",
   "version": "3.6.5"
  }
 },
 "nbformat": 4,
 "nbformat_minor": 2
}
