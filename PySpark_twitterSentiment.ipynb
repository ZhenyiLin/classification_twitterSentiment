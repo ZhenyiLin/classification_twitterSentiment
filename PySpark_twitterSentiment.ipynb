{
 "cells": [
  {
   "cell_type": "markdown",
   "metadata": {},
   "source": [
    "# Check Spark configuration"
   ]
  },
  {
   "cell_type": "code",
   "execution_count": 1,
   "metadata": {},
   "outputs": [
    {
     "data": {
      "text/plain": [
       "[('spark.driver.memory', '20g'),\n",
       " ('spark.executor.memory', '10g'),\n",
       " ('spark.master', 'local[3]'),\n",
       " ('spark.local.dir', 'D:/PySparkTmp'),\n",
       " ('spark.submit.deployMode', 'client'),\n",
       " ('spark.executor.memoryOverhead', '10g'),\n",
       " ('spark.app.name', 'PySparkShell'),\n",
       " ('spark.ui.showConsoleProgress', 'true'),\n",
       " ('spark.driver.maxResultSize', '5g')]"
      ]
     },
     "execution_count": 1,
     "metadata": {},
     "output_type": "execute_result"
    }
   ],
   "source": [
    "from pyspark import SparkConf\n",
    "SparkConf().getAll()"
   ]
  },
  {
   "cell_type": "markdown",
   "metadata": {},
   "source": [
    "# Data Engineering"
   ]
  },
  {
   "cell_type": "markdown",
   "metadata": {},
   "source": [
    "## Read Data\n",
    "\n",
    "Twitter data source is available from http://help.sentiment140.com/for-students"
   ]
  },
  {
   "cell_type": "code",
   "execution_count": 2,
   "metadata": {},
   "outputs": [],
   "source": [
    "from pyspark.sql.functions import col\n",
    "df = spark.read.csv('trainingandtestdata/training.1600000.processed.noemoticon.csv')\n",
    "df = df.select(col('_c5').alias('text'), col('_c0').alias('target'))"
   ]
  },
  {
   "cell_type": "code",
   "execution_count": 3,
   "metadata": {},
   "outputs": [
    {
     "data": {
      "text/plain": [
       "1600000"
      ]
     },
     "execution_count": 3,
     "metadata": {},
     "output_type": "execute_result"
    }
   ],
   "source": [
    "df.count()"
   ]
  },
  {
   "cell_type": "code",
   "execution_count": 4,
   "metadata": {},
   "outputs": [
    {
     "name": "stdout",
     "output_type": "stream",
     "text": [
      "+---------------------------------------------------------------------------------------------------------------------+\n",
      "|text                                                                                                                 |\n",
      "+---------------------------------------------------------------------------------------------------------------------+\n",
      "|@switchfoot http://twitpic.com/2y1zl - Awww, that's a bummer.  You shoulda got David Carr of Third Day to do it. ;D  |\n",
      "|is upset that he can't update his Facebook by texting it... and might cry as a result  School today also. Blah!      |\n",
      "|@Kenichan I dived many times for the ball. Managed to save 50%  The rest go out of bounds                            |\n",
      "|my whole body feels itchy and like its on fire                                                                       |\n",
      "|@nationwideclass no, it's not behaving at all. i'm mad. why am i here? because I can't see you all over there.       |\n",
      "|@Kwesidei not the whole crew                                                                                         |\n",
      "|Need a hug                                                                                                           |\n",
      "|@LOLTrish hey  long time no see! Yes.. Rains a bit ,only a bit  LOL , I'm fine thanks , how's you ?                  |\n",
      "|@Tatiana_K nope they didn't have it                                                                                  |\n",
      "|@twittera que me muera ?                                                                                             |\n",
      "|spring break in plain city... it's snowing                                                                           |\n",
      "|I just re-pierced my ears                                                                                            |\n",
      "|@caregiving I couldn't bear to watch it.  And I thought the UA loss was embarrassing . . . . .                       |\n",
      "|@octolinz16 It it counts, idk why I did either. you never talk to me anymore                                         |\n",
      "|@smarrison i would've been the first, but i didn't have a gun.    not really though, zac snyder's just a doucheclown.|\n",
      "|@iamjazzyfizzle I wish I got to watch it with you!! I miss you and @iamlilnicki  how was the premiere?!              |\n",
      "|Hollis' death scene will hurt me severely to watch on film  wry is directors cut not out now?                        |\n",
      "|about to file taxes                                                                                                  |\n",
      "|@LettyA ahh ive always wanted to see rent  love the soundtrack!!                                                     |\n",
      "|@FakerPattyPattz Oh dear. Were you drinking out of the forgotten table drinks?                                       |\n",
      "+---------------------------------------------------------------------------------------------------------------------+\n",
      "only showing top 20 rows\n",
      "\n"
     ]
    }
   ],
   "source": [
    "df.select(\"text\", \"target\").show(20, False)"
   ]
  },
  {
   "cell_type": "markdown",
   "metadata": {},
   "source": [
    "## Clean data\n",
    "* remove url link\n",
    "* remove @mention, \\#hashTag, <word\\>\n",
    "* remove [\\*] with one word included, such as [-o], [twitter], [*.com]\n",
    "* remove \\$ + number, such as $12,000\n",
    "* remove words having special unicode character, such as U+FFFD\n",
    "* string lower case, strip spaces\n",
    "* html unquote, such as transforming &amp\\; to &;\n",
    "* replace sad face: replace \"=\\[\", \"=\\(\", \":(\", \":-\\[\", \":\\[\" by \"sad\"\n",
    "* replace happy face: replace \":)\", \": )\", \":\\]\" by \"happy\"\n",
    "* replace \"'s \" by \" is \"\n",
    "* replace *'t into two words, such as don't -> do not\n",
    "* keep only letters [a-zA-Z]\n",
    "* drop Null data\n",
    "* add \"End-Of-Sentence\" word\n",
    "* remove extra spaces"
   ]
  },
  {
   "cell_type": "code",
   "execution_count": 3,
   "metadata": {},
   "outputs": [],
   "source": [
    "from pyspark.sql.functions import regexp_replace, udf\n",
    "from pyspark.sql.types import StringType\n",
    "import html\n",
    "import re\n",
    "df = df.withColumn('text', regexp_replace('text', 'https?://[\\w\\d./_?=]+', ''))\n",
    "df = df.withColumn('text', regexp_replace('text', 'www.[\\w\\d./_?=]+', ''))\n",
    "df = df.withColumn('text', regexp_replace('text', \"\\@[\\w\\d.'_]+\", ''))\n",
    "df = df.withColumn('text', regexp_replace('text', \"\\#[\\w\\d.'_]+\", ''))\n",
    "df = df.withColumn('text', regexp_replace('text', \"\\<[\\w]+\\>+\", ''))\n",
    "df = df.withColumn('text', regexp_replace('text', \"\\[[\\S\\w\\d:.-]+\\]\", ''))\n",
    "df = df.withColumn('text', regexp_replace('text', \"\\$\\d+,? ?\\d*\", ''))\n",
    "df = df.withColumn('text', regexp_replace('text', \"(=\\[|=\\(|:\\-\\[|:\\[)\", 'sad'))\n",
    "df = df.withColumn('text', regexp_replace('text', \"(: ?\\)|: ?\\])\", 'happy'))\n",
    "df = df.withColumn('text', regexp_replace('text', \"'s \", ' is '))\n",
    "df = df.withColumn('text', regexp_replace('text', \"'m \", ' am '))\n",
    "df = df.withColumn('text', regexp_replace('text', \"'re \", ' are '))\n",
    "\n",
    "\n",
    "dataClean = udf(lambda x: html.unescape(x).lower().strip(), StringType())\n",
    "#removeUnicode = udf(lambda x: re.sub(\"[\\w]*\"+u\"\\uFFFD ?\"+ \"([\\w]+|$)\", \"\", x), StringType())\n",
    "removeUnicode = udf(lambda x: \"\".join(i for i in x if ord(i)<128))\n",
    "negations_dic = {\"isn't\":\"is not\", \"aren't\":\"are not\", \"wasn't\":\"was not\", \"weren't\":\"were not\",   \n",
    "                \"haven't\":\"have not\",\"hasn't\":\"has not\",\"hadn't\":\"had not\",\"won't\":\"will not\",\n",
    "                \"wouldn't\":\"would not\", \"don't\":\"do not\", \"doesn't\":\"does not\",\"didn't\":\"did not\",\n",
    "                \"can't\":\"can not\",\"couldn't\":\"could not\",\"shouldn't\":\"should not\",\"mightn't\":\"might not\",\n",
    "                \"mustn't\":\"must not\"}\n",
    "\n",
    "@udf(StringType())\n",
    "def negations(s):\n",
    "    for key in negations_dic:\n",
    "        s = re.sub(key, negations_dic[key], s) \n",
    "    return s\n",
    "stripWord = udf(lambda x: x.strip(), StringType())\n",
    "addEos = udf(lambda x: x + \" EOS\")\n",
    "\n",
    "df = df.withColumn('text', dataClean(col('text')) )\n",
    "df = df.withColumn('text', removeUnicode(col('text')) )\n",
    "df = df.withColumn('text', negations(col('text')) )\n",
    "df = df.withColumn('text', regexp_replace('text', \"[^a-zA-Z]\", ' '))\n",
    "df = df.withColumn('text', stripWord(col('text')))\n",
    "df = df.dropna('any')\n",
    "df = df.withColumn('text', addEos(col('text')))\n",
    "df = df.withColumn('text', regexp_replace('text', \"\\s\\s+\", \" \"))"
   ]
  },
  {
   "cell_type": "code",
   "execution_count": 4,
   "metadata": {},
   "outputs": [
    {
     "name": "stdout",
     "output_type": "stream",
     "text": [
      "+---------------------------------------------------------------------------------------------------------------+------+\n",
      "|text                                                                                                           |target|\n",
      "+---------------------------------------------------------------------------------------------------------------+------+\n",
      "|awww that is a bummer you shoulda got david carr of third day to do it d EOS                                   |0     |\n",
      "|is upset that he can not update his facebook by texting it and might cry as a result school today also blah EOS|0     |\n",
      "|i dived many times for the ball managed to save the rest go out of bounds EOS                                  |0     |\n",
      "|my whole body feels itchy and like its on fire EOS                                                             |0     |\n",
      "|no it is not behaving at all i am mad why am i here because i can not see you all over there EOS               |0     |\n",
      "|not the whole crew EOS                                                                                         |0     |\n",
      "|need a hug EOS                                                                                                 |0     |\n",
      "|hey long time no see yes rains a bit only a bit lol i am fine thanks how is you EOS                            |0     |\n",
      "|nope they did not have it EOS                                                                                  |0     |\n",
      "|que me muera EOS                                                                                               |0     |\n",
      "|spring break in plain city it is snowing EOS                                                                   |0     |\n",
      "|i just re pierced my ears EOS                                                                                  |0     |\n",
      "|i could not bear to watch it and i thought the ua loss was embarrassing EOS                                    |0     |\n",
      "|it it counts idk why i did either you never talk to me anymore EOS                                             |0     |\n",
      "|i would ve been the first but i did not have a gun not really though zac snyder is just a doucheclown EOS      |0     |\n",
      "|i wish i got to watch it with you i miss you and how was the premiere EOS                                      |0     |\n",
      "|hollis death scene will hurt me severely to watch on film wry is directors cut not out now EOS                 |0     |\n",
      "|about to file taxes EOS                                                                                        |0     |\n",
      "|ahh ive always wanted to see rent love the soundtrack EOS                                                      |0     |\n",
      "|oh dear were you drinking out of the forgotten table drinks EOS                                                |0     |\n",
      "+---------------------------------------------------------------------------------------------------------------+------+\n",
      "only showing top 20 rows\n",
      "\n"
     ]
    }
   ],
   "source": [
    "df.show(20, False)"
   ]
  },
  {
   "cell_type": "markdown",
   "metadata": {},
   "source": [
    "## Split train / test / validation data\n",
    "* train:        98%\n",
    "* validation:   1.0%\n",
    "* test:         1.0%"
   ]
  },
  {
   "cell_type": "code",
   "execution_count": 8,
   "metadata": {},
   "outputs": [],
   "source": [
    "from pyspark.ml.feature import HashingTF, IDF, Tokenizer, NGram\n",
    "from pyspark.ml.feature import StringIndexer\n",
    "from pyspark.ml.feature import StopWordsRemover\n",
    "from pyspark.ml import Pipeline\n",
    "from pyspark.ml.classification import LogisticRegression\n",
    "from pyspark.ml.evaluation import MulticlassClassificationEvaluator\n",
    "from pyspark.ml.feature import Word2Vec\n",
    "import time\n",
    "\n",
    "(train_set, val_set, test_set) = df.randomSplit([0.98, 0.01, 0.01])"
   ]
  },
  {
   "cell_type": "markdown",
   "metadata": {},
   "source": [
    "## Feature extraction\n",
    "### Pipeline\n",
    "* Tokenization\n",
    "* Stop Word Remover\n",
    "* N Gram model\n",
    "* TF-IDF"
   ]
  },
  {
   "cell_type": "code",
   "execution_count": null,
   "metadata": {},
   "outputs": [],
   "source": [
    "train_set.cache()\n",
    "tokenizer = Tokenizer(inputCol=\"text\", outputCol=\"word\")\n",
    "remover = StopWordsRemover(inputCol=\"word\", outputCol=\"filteredWord\")\n",
    "ngram = NGram(n=2, inputCol=\"filteredWord\", outputCol=\"words\")\n",
    "hashtf = HashingTF(numFeatures = 2**16, inputCol=\"words\", outputCol=\"tf\")\n",
    "idf = IDF(inputCol='tf', outputCol=\"features\", minDocFreq=2)\n",
    "label_stringIdx = StringIndexer(inputCol=\"target\", outputCol=\"label\")\n",
    "pipeline = Pipeline(stages=[tokenizer, remover, ngram, hashtf, idf, label_stringIdx])\n",
    "\n",
    "pipelineFit = pipeline.fit(train_set)\n",
    "train_df = pipelineFit.transform(train_set)\n",
    "val_df = pipelineFit.transform(val_set)"
   ]
  },
  {
   "cell_type": "markdown",
   "metadata": {},
   "source": [
    "## Logistic Regression"
   ]
  },
  {
   "cell_type": "markdown",
   "metadata": {},
   "source": [
    "* Compute the weight column\n",
    "* fit the model and transform"
   ]
  },
  {
   "cell_type": "code",
   "execution_count": 7,
   "metadata": {},
   "outputs": [],
   "source": [
    "lr = LogisticRegression(maxIter=100, threshold=0.5)\n",
    "lrModel2 = lr.fit(train_df)\n",
    "predictions = lrModel2.transform(val_df)"
   ]
  },
  {
   "cell_type": "markdown",
   "metadata": {},
   "source": [
    "## Validate result\n",
    "* PySpark use F1-Score by default to validate result. \n",
    "* The validation result is about 74%. \n",
    "\n",
    "In the next step we use train and validation data to tune hyper parameters"
   ]
  },
  {
   "cell_type": "code",
   "execution_count": 8,
   "metadata": {
    "scrolled": true
   },
   "outputs": [
    {
     "name": "stdout",
     "output_type": "stream",
     "text": [
      "Evaluator Metrics is f1\n",
      "Prediction is 0.6771757622581633\n"
     ]
    }
   ],
   "source": [
    "evaluator = MulticlassClassificationEvaluator(predictionCol=\"prediction\", labelCol='label')\n",
    "print(\"Evaluator Metrics is %s\" %evaluator.getMetricName())\n",
    "\n",
    "pred = evaluator.evaluate(predictions) \n",
    "print(\"Prediction is {}\".format(pred))"
   ]
  },
  {
   "cell_type": "markdown",
   "metadata": {},
   "source": [
    "# Word2Vec model"
   ]
  },
  {
   "cell_type": "code",
   "execution_count": 5,
   "metadata": {},
   "outputs": [],
   "source": [
    "tokenizer = Tokenizer(inputCol=\"text\", outputCol=\"word\")\n",
    "remover = StopWordsRemover(inputCol=\"word\", outputCol=\"filteredWord\")\n",
    "word2vec = Word2Vec(vectorSize=300, minCount=100, inputCol=\"filteredWord\", outputCol=\"features\")\n",
    "label_stringIdx = StringIndexer(inputCol=\"target\", outputCol=\"label\")\n",
    "pipeline2 = Pipeline(stages=[tokenizer, remover, word2vec, label_stringIdx])\n",
    "\n",
    "pipelineFit2 = pipeline2.fit(train_set)\n",
    "train_df2 = pipelineFit2.transform(train_set)\n",
    "val_df2 = pipelineFit2.transform(val_set)"
   ]
  },
  {
   "cell_type": "code",
   "execution_count": 6,
   "metadata": {},
   "outputs": [],
   "source": [
    "lr2 = LogisticRegression(maxIter=100, threshold=0.5)\n",
    "lrModel2 = lr2.fit(train_df2)\n"
   ]
  },
  {
   "cell_type": "code",
   "execution_count": 7,
   "metadata": {},
   "outputs": [
    {
     "name": "stdout",
     "output_type": "stream",
     "text": [
      "Evaluator Metrics is f1\n",
      "Prediction is 0.7491227645829305\n"
     ]
    }
   ],
   "source": [
    "evaluator2 = MulticlassClassificationEvaluator(predictionCol=\"prediction\", labelCol='label')\n",
    "print(\"Evaluator Metrics is %s\" %evaluator2.getMetricName())\n",
    "predictions2= lrModel2.transform(val_df2)\n",
    "pred2= evaluator2.evaluate(predictions2) \n",
    "print(\"Prediction is {}\".format(pred2))"
   ]
  },
  {
   "cell_type": "markdown",
   "metadata": {},
   "source": [
    "## Optimize hyper parameters\n",
    "* Use Gaussian Process to tune hyper parameters\n",
    "* Hyper parameter list\n",
    "    * No. of gram = $[2, 3]$\n",
    "    * No. of TF-IDF features = $[2^{18}, 2^{19}, 2^{20}, 2^{21}, 2^{22}, 2^{23}, 2^{24}]$\n",
    "    * Minimum doc frequency = $[2, 3, 4, 5]$\n",
    "    * Logistic regression model threshold = $[0.3, 0.4, 0.5, 0.6, 0.7]$"
   ]
  },
  {
   "cell_type": "code",
   "execution_count": 9,
   "metadata": {},
   "outputs": [
    {
     "data": {
      "text/plain": [
       "DataFrame[text: string, target: string, word: array<string>, filteredWord: array<string>, label: double]"
      ]
     },
     "execution_count": 9,
     "metadata": {},
     "output_type": "execute_result"
    }
   ],
   "source": [
    "import skopt\n",
    "from skopt import gp_minimize\n",
    "from skopt.space import Integer, Real\n",
    "from skopt.utils import use_named_args\n",
    "from pyspark.ml.feature import Word2Vec\n",
    "\n",
    "\n",
    "tokenizer = Tokenizer(inputCol=\"text\", outputCol=\"word\")\n",
    "remover = StopWordsRemover(inputCol=\"word\", outputCol=\"filteredWord\")\n",
    "label_stringIdx = StringIndexer(inputCol=\"target\", outputCol=\"label\")\n",
    "pipeline1 = Pipeline(stages=[tokenizer, remover, label_stringIdx])\n",
    "\n",
    "pipelineFit = pipeline1.fit(train_set)\n",
    "train_set2 = pipelineFit.transform(train_set)\n",
    "test_set2 = pipelineFit.transform(test_set)\n",
    "val_set2 = pipelineFit.transform(val_set)\n",
    "train_set2.cache()\n",
    "test_set2.cache()\n",
    "\n"
   ]
  },
  {
   "cell_type": "code",
   "execution_count": 10,
   "metadata": {
    "scrolled": true
   },
   "outputs": [
    {
     "name": "stdout",
     "output_type": "stream",
     "text": [
      "vector size=100,   min count=100,  prediction=0.7265, time used = 6.3101 mins, total time used = 0.1052 hrs\n",
      "vector size=234,   min count=88,  prediction=0.7435, time used = 7.1475 mins, total time used = 0.2243 hrs\n",
      "vector size=362,   min count=1906,  prediction=0.7224, time used = 7.7272 mins, total time used = 0.3531 hrs\n",
      "vector size=343,   min count=488,  prediction=0.7385, time used = 8.8479 mins, total time used = 0.5005 hrs\n",
      "vector size=289,   min count=1210,  prediction=0.7192, time used = 6.9345 mins, total time used = 0.6161 hrs\n",
      "vector size=362,   min count=774,  prediction=0.7318, time used = 9.2343 mins, total time used = 0.7700 hrs\n",
      "vector size=405,   min count=1484,  prediction=0.7203, time used = 9.2596 mins, total time used = 0.9244 hrs\n",
      "vector size=475,   min count=1203,  prediction=0.7207, time used = 10.2973 mins, total time used = 1.0960 hrs\n",
      "vector size=397,   min count=461,  prediction=0.7389, time used = 9.8112 mins, total time used = 1.2595 hrs\n",
      "vector size=208,   min count=1617,  prediction=0.7152, time used = 4.4044 mins, total time used = 1.3329 hrs\n",
      "vector size=284,   min count=310,  prediction=0.7392, time used = 7.4924 mins, total time used = 1.4578 hrs\n",
      "vector size=500,   min count=1,  prediction=0.7571, time used = 17.8268 mins, total time used = 1.7553 hrs\n",
      "vector size=498,   min count=5,  prediction=0.7559, time used = 16.2932 mins, total time used = 2.0269 hrs\n",
      "vector size=490,   min count=5,  prediction=0.7568, time used = 16.4366 mins, total time used = 2.3008 hrs\n",
      "vector size=394,   min count=7,  prediction=0.7548, time used = 12.8825 mins, total time used = 2.5156 hrs\n"
     ]
    },
    {
     "name": "stderr",
     "output_type": "stream",
     "text": [
      "C:\\Users\\linzh\\AppData\\Local\\Continuum\\anaconda3\\envs\\spark\\lib\\site-packages\\skopt\\optimizer\\optimizer.py:399: UserWarning: The objective has been evaluated at this point before.\n",
      "  warnings.warn(\"The objective has been evaluated \"\n"
     ]
    },
    {
     "name": "stdout",
     "output_type": "stream",
     "text": [
      "vector size=500,   min count=1,  prediction=0.7571, time used = 17.4767 mins, total time used = 2.8069 hrs\n",
      "vector size=108,   min count=1988,  prediction=0.7056, time used = 2.0171 mins, total time used = 2.8407 hrs\n",
      "vector size=361,   min count=2,  prediction=0.7525, time used = 12.1696 mins, total time used = 3.0435 hrs\n",
      "vector size=495,   min count=1,  prediction=0.7589, time used = 17.2545 mins, total time used = 3.3311 hrs\n",
      "vector size=500,   min count=2000,  prediction=0.7179, time used = 9.8081 mins, total time used = 3.4947 hrs\n"
     ]
    }
   ],
   "source": [
    "vector_size = Integer(low=100, high=500, name='n1')\n",
    "min_count = Integer(low=1, high=2000, name='n2')\n",
    "dimensions = [vector_size, min_count]\n",
    "default_params = [100, 100]\n",
    "\n",
    "t0 = time.time()\n",
    "@use_named_args(dimensions=dimensions)\n",
    "def sentiment_model(n1, n2):\n",
    "    t1 = time.time()\n",
    "    word2vec = Word2Vec(vectorSize=int(n1), minCount=int(n2), inputCol=\"filteredWord\", outputCol=\"features\")\n",
    "    lr = LogisticRegression(maxIter=100, threshold=0.5)\n",
    "    pipeline2 = Pipeline(stages=[word2vec, lr])\n",
    "    pipelineFit = pipeline2.fit(train_set2)\n",
    "    predictions = pipelineFit.transform(test_set2)\n",
    "    \n",
    "    evaluator = MulticlassClassificationEvaluator(predictionCol=\"prediction\", labelCol='label')\n",
    "    res = -evaluator.evaluate(predictions) \n",
    "    t2 = time.time()\n",
    "    dt = (t2-t1) / 60\n",
    "    total_hr = (t2-t0) / 3600\n",
    "    print(\"vector size=%s,   min count=%s,  prediction=%.4f, time used = %.4f mins, total time used = %.4f hrs\" %(n1,n2,-res, dt, total_hr))\n",
    "    return res\n",
    "\n",
    "search_result = gp_minimize(func=sentiment_model, \n",
    "                            dimensions=dimensions, \n",
    "                            acq_func='EI',         # Expected Improvement\n",
    "                            n_calls = 20,\n",
    "                            x0=default_params) "
   ]
  },
  {
   "cell_type": "code",
   "execution_count": 12,
   "metadata": {},
   "outputs": [
    {
     "data": {
      "image/png": "[encoded data removed]",
      "text/plain": [
       "<Figure size 432x288 with 1 Axes>"
      ]
     },
     "metadata": {},
     "output_type": "display_data"
    }
   ],
   "source": [
    "import matplotlib.pyplot as plt\n",
    "from skopt.plots import plot_convergence\n",
    "plot_convergence(search_result)\n",
    "plt.show()"
   ]
  },
  {
   "cell_type": "code",
   "execution_count": 20,
   "metadata": {},
   "outputs": [
    {
     "name": "stdout",
     "output_type": "stream",
     "text": [
      "The best vector size: 495        the best min count: 1\n"
     ]
    }
   ],
   "source": [
    "search_result.x\n",
    "print(\"The best vector size: %s        the best min count: %s\" % (search_result.x[0], search_result.x[1]))"
   ]
  }
 ],
 "metadata": {
  "kernelspec": {
   "display_name": "Python 3",
   "language": "python",
   "name": "python3"
  },
  "language_info": {
   "codemirror_mode": {
    "name": "ipython",
    "version": 3
   },
   "file_extension": ".py",
   "mimetype": "text/x-python",
   "name": "python",
   "nbconvert_exporter": "python",
   "pygments_lexer": "ipython3",
   "version": "3.6.5"
  }
 },
 "nbformat": 4,
 "nbformat_minor": 2
}
